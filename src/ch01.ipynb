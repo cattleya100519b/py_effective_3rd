{
 "cells": [
  {
   "cell_type": "markdown",
   "id": "1ad772de",
   "metadata": {},
   "source": [
    "# 1. Pythonicな考え方"
   ]
  },
  {
   "cell_type": "markdown",
   "id": "8ac35aca",
   "metadata": {},
   "source": [
    "## 1-1. 使用するPythonのバージョンを把握する"
   ]
  },
  {
   "cell_type": "code",
   "execution_count": 2,
   "id": "06038f99",
   "metadata": {},
   "outputs": [
    {
     "name": "stdout",
     "output_type": "stream",
     "text": [
      "platform: darwin\n",
      "implementation: cpython\n",
      "version: 3.13.9 (main, Oct 14 2025, 13:52:31) [Clang 17.0.0 (clang-1700.3.19.1)]\n"
     ]
    }
   ],
   "source": [
    "import sys\n",
    "\n",
    "print(f'platform: {sys.platform}')\n",
    "print(f'implementation: {sys.implementation.name}')\n",
    "print(f'version: {sys.version}')"
   ]
  }
 ],
 "metadata": {
  "kernelspec": {
   "display_name": ".venv",
   "language": "python",
   "name": "python3"
  },
  "language_info": {
   "codemirror_mode": {
    "name": "ipython",
    "version": 3
   },
   "file_extension": ".py",
   "mimetype": "text/x-python",
   "name": "python",
   "nbconvert_exporter": "python",
   "pygments_lexer": "ipython3",
   "version": "3.13.9"
  }
 },
 "nbformat": 4,
 "nbformat_minor": 5
}
